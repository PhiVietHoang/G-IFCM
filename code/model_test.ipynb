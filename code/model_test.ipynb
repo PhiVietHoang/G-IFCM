{
 "cells": [
  {
   "cell_type": "code",
   "execution_count": 27,
   "metadata": {},
   "outputs": [],
   "source": [
    "import algorithm as al\n",
    "import numpy as np\n",
    "import pandas as pd"
   ]
  },
  {
   "cell_type": "code",
   "execution_count": 28,
   "metadata": {},
   "outputs": [
    {
     "data": {
      "text/html": [
       "<div>\n",
       "<style scoped>\n",
       "    .dataframe tbody tr th:only-of-type {\n",
       "        vertical-align: middle;\n",
       "    }\n",
       "\n",
       "    .dataframe tbody tr th {\n",
       "        vertical-align: top;\n",
       "    }\n",
       "\n",
       "    .dataframe thead th {\n",
       "        text-align: right;\n",
       "    }\n",
       "</style>\n",
       "<table border=\"1\" class=\"dataframe\">\n",
       "  <thead>\n",
       "    <tr style=\"text-align: right;\">\n",
       "      <th></th>\n",
       "      <th>a</th>\n",
       "      <th>b</th>\n",
       "      <th>c</th>\n",
       "      <th>d</th>\n",
       "      <th>e</th>\n",
       "      <th>class</th>\n",
       "    </tr>\n",
       "  </thead>\n",
       "  <tbody>\n",
       "    <tr>\n",
       "      <th>0</th>\n",
       "      <td>6</td>\n",
       "      <td>4</td>\n",
       "      <td>1</td>\n",
       "      <td>10</td>\n",
       "      <td>9</td>\n",
       "      <td>a</td>\n",
       "    </tr>\n",
       "    <tr>\n",
       "      <th>1</th>\n",
       "      <td>7</td>\n",
       "      <td>2</td>\n",
       "      <td>4</td>\n",
       "      <td>6</td>\n",
       "      <td>8</td>\n",
       "      <td>a</td>\n",
       "    </tr>\n",
       "    <tr>\n",
       "      <th>2</th>\n",
       "      <td>6</td>\n",
       "      <td>7</td>\n",
       "      <td>10</td>\n",
       "      <td>9</td>\n",
       "      <td>2</td>\n",
       "      <td>a</td>\n",
       "    </tr>\n",
       "    <tr>\n",
       "      <th>3</th>\n",
       "      <td>7</td>\n",
       "      <td>3</td>\n",
       "      <td>8</td>\n",
       "      <td>1</td>\n",
       "      <td>4</td>\n",
       "      <td>a</td>\n",
       "    </tr>\n",
       "    <tr>\n",
       "      <th>4</th>\n",
       "      <td>7</td>\n",
       "      <td>4</td>\n",
       "      <td>8</td>\n",
       "      <td>5</td>\n",
       "      <td>10</td>\n",
       "      <td>a</td>\n",
       "    </tr>\n",
       "  </tbody>\n",
       "</table>\n",
       "</div>"
      ],
      "text/plain": [
       "   a  b   c   d   e class\n",
       "0  6  4   1  10   9     a\n",
       "1  7  2   4   6   8     a\n",
       "2  6  7  10   9   2     a\n",
       "3  7  3   8   1   4     a\n",
       "4  7  4   8   5  10     a"
      ]
     },
     "execution_count": 28,
     "metadata": {},
     "output_type": "execute_result"
    }
   ],
   "source": [
    "train = pd.read_excel('test.xlsx')\n",
    "train"
   ]
  },
  {
   "cell_type": "code",
   "execution_count": 29,
   "metadata": {},
   "outputs": [
    {
     "data": {
      "text/plain": [
       "array([[6, 4, 1, 10, 9],\n",
       "       [7, 2, 4, 6, 8],\n",
       "       [6, 7, 10, 9, 2],\n",
       "       [7, 3, 8, 1, 4],\n",
       "       [7, 4, 8, 5, 10]], dtype=object)"
      ]
     },
     "execution_count": 29,
     "metadata": {},
     "output_type": "execute_result"
    }
   ],
   "source": [
    "train = train.to_numpy()\n",
    "R_train = train[:, 0:5]\n",
    "R_train"
   ]
  },
  {
   "cell_type": "code",
   "execution_count": 30,
   "metadata": {},
   "outputs": [
    {
     "data": {
      "text/plain": [
       "array([[0.        , 0.4       , 0.        , 1.        , 0.875     ],\n",
       "       [1.        , 0.        , 0.33333333, 0.55555556, 0.75      ],\n",
       "       [0.        , 1.        , 1.        , 0.88888889, 0.        ],\n",
       "       [1.        , 0.2       , 0.77777778, 0.        , 0.25      ],\n",
       "       [1.        , 0.4       , 0.77777778, 0.44444444, 1.        ]])"
      ]
     },
     "execution_count": 30,
     "metadata": {},
     "output_type": "execute_result"
    }
   ],
   "source": [
    "Nd = al.normalization(R_train, 0, 1)\n",
    "Nd"
   ]
  },
  {
   "cell_type": "code",
   "execution_count": 31,
   "metadata": {},
   "outputs": [
    {
     "data": {
      "text/plain": [
       "array([[0.        , 1.21830496, 1.46218011, 1.74228679, 1.38895833],\n",
       "       [1.21830496, 0.        , 1.76580168, 0.89228518, 0.65755345],\n",
       "       [1.46218011, 1.76580168, 0.        , 1.59436701, 1.61459394],\n",
       "       [1.74228679, 0.89228518, 1.59436701, 0.        , 0.89444444],\n",
       "       [1.38895833, 0.65755345, 1.61459394, 0.89444444, 0.        ]])"
      ]
     },
     "execution_count": 31,
     "metadata": {},
     "output_type": "execute_result"
    }
   ],
   "source": [
    "dis = al.distance(Nd)\n",
    "dis"
   ]
  },
  {
   "cell_type": "code",
   "execution_count": 32,
   "metadata": {},
   "outputs": [
    {
     "data": {
      "text/plain": [
       "array([[4.34955009, 2.3662208 , 4.30369464, 2.59386656, 2.73825875],\n",
       "       [1.54983863, 2.69460208, 2.97123172, 3.08015243, 1.94664159],\n",
       "       [4.97476262, 1.54958302, 3.08445907, 3.16077835, 4.61694454],\n",
       "       [1.78672962, 2.64905951, 2.58747442, 4.05274677, 3.08815927],\n",
       "       [1.5519979 , 2.34906616, 2.52945743, 3.18946042, 1.93211474]])"
      ]
     },
     "execution_count": 32,
     "metadata": {},
     "output_type": "execute_result"
    }
   ],
   "source": [
    "prod = al.product(dis,Nd)\n",
    "prod"
   ]
  },
  {
   "cell_type": "code",
   "execution_count": 33,
   "metadata": {},
   "outputs": [
    {
     "data": {
      "text/plain": [
       "array([[0.22990884, 0.42261483, 0.23235849, 0.38552484, 0.36519558],\n",
       "       [0.64522846, 0.37111231, 0.33656076, 0.32465926, 0.51370525],\n",
       "       [0.20101462, 0.6453349 , 0.32420595, 0.31637777, 0.21659346],\n",
       "       [0.55968177, 0.37749246, 0.38647725, 0.24674623, 0.3238175 ],\n",
       "       [0.64433077, 0.42570108, 0.3953417 , 0.31353266, 0.51756761]])"
      ]
     },
     "execution_count": 33,
     "metadata": {},
     "output_type": "execute_result"
    }
   ],
   "source": [
    "M = al.membershipValue(prod)\n",
    "M"
   ]
  },
  {
   "cell_type": "code",
   "execution_count": 34,
   "metadata": {},
   "outputs": [
    {
     "data": {
      "text/plain": [
       "array([[0.19931366, 0.0802156 , 0.19706267, 0.09626429, 0.10614839],\n",
       "       [0.02184684, 0.10318593, 0.12156082, 0.12853254, 0.04968234],\n",
       "       [0.22807723, 0.02183031, 0.12880511, 0.13359653, 0.21204182],\n",
       "       [0.03810669, 0.1000713 , 0.09582114, 0.18437086, 0.12903911],\n",
       "       [0.0219866 , 0.07898592, 0.09177817, 0.13537824, 0.04862209]])"
      ]
     },
     "execution_count": 34,
     "metadata": {},
     "output_type": "execute_result"
    }
   ],
   "source": [
    "N = al.nonMembershipValue(M, 0.45)\n",
    "N"
   ]
  },
  {
   "cell_type": "code",
   "execution_count": 35,
   "metadata": {},
   "outputs": [
    {
     "data": {
      "text/plain": [
       "array([[0.5707775 , 0.49716957, 0.57057883, 0.51821087, 0.52865602],\n",
       "       [0.33292469, 0.52570176, 0.54187842, 0.54680821, 0.43661241],\n",
       "       [0.57090816, 0.33283479, 0.54698894, 0.5500257 , 0.57136472],\n",
       "       [0.40221154, 0.52243624, 0.51770161, 0.5688829 , 0.5471434 ],\n",
       "       [0.33368263, 0.495313  , 0.51288013, 0.55108911, 0.4338103 ]])"
      ]
     },
     "execution_count": 35,
     "metadata": {},
     "output_type": "execute_result"
    }
   ],
   "source": [
    "H = al.hesitancyValue(N, 0.45)\n",
    "H"
   ]
  },
  {
   "cell_type": "code",
   "execution_count": 41,
   "metadata": {},
   "outputs": [
    {
     "name": "stdout",
     "output_type": "stream",
     "text": [
      "M =  [[0.23  0.423 0.232 0.386 0.365]\n",
      " [0.645 0.371 0.337 0.325 0.514]\n",
      " [0.201 0.645 0.324 0.316 0.217]\n",
      " [0.56  0.377 0.386 0.247 0.324]\n",
      " [0.644 0.426 0.395 0.314 0.518]]\n",
      "\n",
      "N =  [[0.199 0.08  0.197 0.096 0.106]\n",
      " [0.022 0.103 0.122 0.129 0.05 ]\n",
      " [0.228 0.022 0.129 0.134 0.212]\n",
      " [0.038 0.1   0.096 0.184 0.129]\n",
      " [0.022 0.079 0.092 0.135 0.049]]\n",
      "\n",
      "H =  [[0.571 0.497 0.571 0.518 0.529]\n",
      " [0.333 0.526 0.542 0.547 0.437]\n",
      " [0.571 0.333 0.547 0.55  0.571]\n",
      " [0.402 0.522 0.518 0.569 0.547]\n",
      " [0.334 0.495 0.513 0.551 0.434]]\n"
     ]
    }
   ],
   "source": [
    "M, N, H = al.method1(R_train, 0, 1, 0.45)\n",
    "\n",
    "M = np.around(M, 3)\n",
    "N = np.around(N, 3)\n",
    "H = np.around(H, 3)\n",
    "\n",
    "print (\"M = \",M)\n",
    "print (\"\\nN = \",N)\n",
    "print (\"\\nH = \",H)"
   ]
  },
  {
   "cell_type": "code",
   "execution_count": 42,
   "metadata": {},
   "outputs": [
    {
     "data": {
      "text/plain": [
       "array([[0.0200831 , 0.3890785 , 0.        , 1.        , 0.86110107],\n",
       "       [1.        , 0.        , 0.34150902, 0.55564066, 0.7585833 ],\n",
       "       [0.        , 1.        , 1.        , 0.88291936, 0.        ],\n",
       "       [0.94113573, 0.19074706, 0.78684558, 0.        , 0.25382484],\n",
       "       [0.99930748, 0.38964733, 0.78783546, 0.44501587, 1.        ]])"
      ]
     },
     "execution_count": 42,
     "metadata": {},
     "output_type": "execute_result"
    }
   ],
   "source": [
    "M2 = al.normalization(M+R_train, 0, 1)\n",
    "M2"
   ]
  },
  {
   "cell_type": "code",
   "execution_count": 43,
   "metadata": {},
   "outputs": [
    {
     "name": "stdout",
     "output_type": "stream",
     "text": [
      "M' = \n",
      " [[0.02  0.389 0.    1.    0.861]\n",
      " [1.    0.    0.341 0.556 0.759]\n",
      " [0.    1.    1.    0.883 0.   ]\n",
      " [0.941 0.191 0.787 0.    0.254]\n",
      " [0.999 0.39  0.788 0.445 1.   ]]\n",
      "\n",
      "N' = \n",
      " [[0.657 0.095 1.    0.    0.002]\n",
      " [0.    1.    0.119 0.039 0.008]\n",
      " [1.    0.    0.    0.002 1.   ]\n",
      " [0.    0.239 0.006 1.    0.178]\n",
      " [0.    0.094 0.006 0.072 0.   ]]\n",
      "\n",
      "H' = \n",
      " [[0.323 0.516 0.    0.    0.137]\n",
      " [0.    0.    0.54  0.405 0.233]\n",
      " [0.    0.    0.    0.115 0.   ]\n",
      " [0.059 0.57  0.207 0.    0.568]\n",
      " [0.001 0.516 0.206 0.483 0.   ]]\n"
     ]
    }
   ],
   "source": [
    "M2, N2, H2 = al.method2(R_train, 0, 1, 0.45, 1)\n",
    "\n",
    "M2 = np.around(M2, 3)\n",
    "N2 = np.around(N2, 3)\n",
    "H2 = np.around(H2, 3)\n",
    "\n",
    "print (\"M' = \\n\",M2)\n",
    "print (\"\\nN' = \\n\",N2)\n",
    "print (\"\\nH' = \\n\",H2)\n"
   ]
  }
 ],
 "metadata": {
  "kernelspec": {
   "display_name": "Python 3",
   "language": "python",
   "name": "python3"
  },
  "language_info": {
   "codemirror_mode": {
    "name": "ipython",
    "version": 3
   },
   "file_extension": ".py",
   "mimetype": "text/x-python",
   "name": "python",
   "nbconvert_exporter": "python",
   "pygments_lexer": "ipython3",
   "version": "3.10.4"
  }
 },
 "nbformat": 4,
 "nbformat_minor": 2
}
